{
 "cells": [
  {
   "cell_type": "markdown",
   "id": "a4ab8463",
   "metadata": {},
   "source": [
    "## Import Libraries & Load Dataset"
   ]
  },
  {
   "cell_type": "code",
   "execution_count": 1,
   "id": "f7eb6704",
   "metadata": {},
   "outputs": [],
   "source": [
    "import numpy as np\n",
    "import pandas as pd\n",
    "from tensorflow.keras.callbacks import ModelCheckpoint\n",
    "from tensorflow.keras.models import Model\n",
    "from tensorflow.keras.optimizers import Adam\n",
    "from tensorflow.keras.layers import Dense, GRU, Dropout\n",
    "from tensorflow.keras.utils import to_categorical"
   ]
  },
  {
   "cell_type": "markdown",
   "id": "17509ac4",
   "metadata": {},
   "source": [
    "## Emoji Classification Dataset"
   ]
  },
  {
   "cell_type": "code",
   "execution_count": 2,
   "id": "096aa212",
   "metadata": {},
   "outputs": [],
   "source": [
    "def read_csv(x):\n",
    "    data = pd.read_csv(x)\n",
    "    x = data[\"sentence\"].values\n",
    "    y = data[\"label\"].values\n",
    "    return x, y"
   ]
  },
  {
   "cell_type": "code",
   "execution_count": 3,
   "id": "989de68d",
   "metadata": {},
   "outputs": [],
   "source": [
    "x_train, y_train = read_csv(\"Emoji_Text_Classification/train.csv\")\n",
    "x_test, y_test = read_csv(\"Emoji_Text_Classification/test.csv\")"
   ]
  },
  {
   "cell_type": "code",
   "execution_count": 4,
   "id": "7869dddf",
   "metadata": {},
   "outputs": [],
   "source": [
    "def label_to_emoji(label):\n",
    "    emojies = [\"❤️\",\"🏐\",\"😆\",\"😔\",\"🍽️\"]\n",
    "    return emojies[label]"
   ]
  },
  {
   "cell_type": "code",
   "execution_count": 5,
   "id": "87682500",
   "metadata": {},
   "outputs": [
    {
     "name": "stdout",
     "output_type": "stream",
     "text": [
      "she did not answer my text  😔\n"
     ]
    }
   ],
   "source": [
    "index = 10\n",
    "print(x_train[index],label_to_emoji(y_train[index]))"
   ]
  },
  {
   "cell_type": "code",
   "execution_count": 6,
   "id": "bbda75f4",
   "metadata": {},
   "outputs": [],
   "source": [
    "def calc_max_len(x_train,x_test):\n",
    "    max_len_xtrain = max([len(i.split(\" \")) for i in x_train])\n",
    "    max_len_xtest = max([len(i.split(\" \")) for i in x_test])\n",
    "    max_len = max(max_len_xtrain,max_len_xtest)\n",
    "    return max_len"
   ]
  },
  {
   "cell_type": "code",
   "execution_count": 7,
   "id": "e4555b9d",
   "metadata": {},
   "outputs": [],
   "source": [
    "y_train_oh = to_categorical(y_train,5)\n",
    "y_test_oh = to_categorical(y_test,5)"
   ]
  },
  {
   "cell_type": "code",
   "execution_count": 8,
   "id": "2e05a582",
   "metadata": {},
   "outputs": [],
   "source": [
    "with open(\"glove.6B.50d.txt\", encoding=\"utf8\") as text:\n",
    "    word_to_vec = dict()\n",
    "    for line in text:\n",
    "        line = line.split()\n",
    "        words = line[0]\n",
    "        vecs = line[1:]\n",
    "        vecs = np.array(vecs,dtype=np.float64)\n",
    "        word_to_vec[words] = vecs"
   ]
  },
  {
   "cell_type": "code",
   "execution_count": 9,
   "id": "549873ed",
   "metadata": {},
   "outputs": [],
   "source": [
    "def convert_to_embedding(x):\n",
    "    vec_size = 50\n",
    "    max_len = calc_max_len(x_train,x_test)\n",
    "    embedd_matrix = np.zeros((x.shape[0],max_len,vec_size))\n",
    "    for i in range(x.shape[0]):\n",
    "        word = x[i].lower().split()\n",
    "        for j in range(len(word)):\n",
    "            embedd_matrix[i,j,:] = word_to_vec[word[j]]\n",
    "    \n",
    "    return embedd_matrix"
   ]
  },
  {
   "cell_type": "code",
   "execution_count": 10,
   "id": "4f183297",
   "metadata": {},
   "outputs": [],
   "source": [
    "x_train_embedd = convert_to_embedding(x_train)\n",
    "x_test_embedd = convert_to_embedding(x_test)"
   ]
  },
  {
   "cell_type": "code",
   "execution_count": 11,
   "id": "5a4b668e",
   "metadata": {},
   "outputs": [
    {
     "name": "stdout",
     "output_type": "stream",
     "text": [
      "(132, 10, 50)\n",
      "(132, 5)\n"
     ]
    }
   ],
   "source": [
    "print(x_train_embedd.shape)\n",
    "print(y_train_oh.shape)"
   ]
  },
  {
   "cell_type": "markdown",
   "id": "638f59a7",
   "metadata": {},
   "source": [
    "# RNN \n",
    "## GRU Model"
   ]
  },
  {
   "cell_type": "code",
   "execution_count": 12,
   "id": "077942cb",
   "metadata": {},
   "outputs": [],
   "source": [
    "class MyModel(Model):\n",
    "    def __init__(self):\n",
    "        super().__init__()\n",
    "        self.gru1 = GRU(512, return_sequences=True)\n",
    "        self.gru2 = GRU(512, return_sequences=True)\n",
    "        self.gru3 = GRU(512)\n",
    "        self.dropout = Dropout(0.5)\n",
    "        self.fc = Dense(5,activation=\"softmax\")\n",
    "\n",
    "    def call(self,x):\n",
    "        x = self.gru1(x)\n",
    "        x = self.gru2(x)\n",
    "        x = self.gru3(x)\n",
    "        x = self.dropout(x)\n",
    "        x = self.fc(x)\n",
    "\n",
    "        return x"
   ]
  },
  {
   "cell_type": "code",
   "execution_count": 13,
   "id": "dfdac06d",
   "metadata": {},
   "outputs": [],
   "source": [
    "model = MyModel()\n",
    "model.compile(optimizer=Adam(learning_rate=0.0001),loss=\"categorical_crossentropy\",metrics=[\"accuracy\"])"
   ]
  },
  {
   "cell_type": "code",
   "execution_count": 14,
   "id": "a216a022",
   "metadata": {
    "scrolled": false
   },
   "outputs": [
    {
     "name": "stdout",
     "output_type": "stream",
     "text": [
      "Epoch 1/100\n",
      "17/17 [==============================] - 7s 84ms/step - loss: 1.5565 - accuracy: 0.2652 - val_loss: 1.5238 - val_accuracy: 0.3036\n",
      "Epoch 2/100\n",
      "17/17 [==============================] - 0s 28ms/step - loss: 1.4834 - accuracy: 0.3333 - val_loss: 1.4499 - val_accuracy: 0.4643\n",
      "Epoch 3/100\n",
      "17/17 [==============================] - 0s 28ms/step - loss: 1.4024 - accuracy: 0.4242 - val_loss: 1.3671 - val_accuracy: 0.5893\n",
      "Epoch 4/100\n",
      "17/17 [==============================] - 0s 28ms/step - loss: 1.2250 - accuracy: 0.6591 - val_loss: 1.2051 - val_accuracy: 0.5893\n",
      "Epoch 5/100\n",
      "17/17 [==============================] - 0s 28ms/step - loss: 1.0582 - accuracy: 0.6818 - val_loss: 1.0420 - val_accuracy: 0.6250\n",
      "Epoch 6/100\n",
      "17/17 [==============================] - 0s 28ms/step - loss: 0.9000 - accuracy: 0.6818 - val_loss: 0.9638 - val_accuracy: 0.6786\n",
      "Epoch 7/100\n",
      "17/17 [==============================] - 0s 28ms/step - loss: 0.7063 - accuracy: 0.7500 - val_loss: 0.7946 - val_accuracy: 0.6607\n",
      "Epoch 8/100\n",
      "17/17 [==============================] - 0s 28ms/step - loss: 0.6068 - accuracy: 0.7955 - val_loss: 0.8314 - val_accuracy: 0.6964\n",
      "Epoch 9/100\n",
      "17/17 [==============================] - 1s 30ms/step - loss: 0.5573 - accuracy: 0.7803 - val_loss: 0.6603 - val_accuracy: 0.7500\n",
      "Epoch 10/100\n",
      "17/17 [==============================] - 0s 28ms/step - loss: 0.4138 - accuracy: 0.8561 - val_loss: 0.5066 - val_accuracy: 0.8036\n",
      "Epoch 11/100\n",
      "17/17 [==============================] - 0s 28ms/step - loss: 0.3819 - accuracy: 0.8788 - val_loss: 0.4253 - val_accuracy: 0.7679\n",
      "Epoch 12/100\n",
      "17/17 [==============================] - 0s 28ms/step - loss: 0.3350 - accuracy: 0.8712 - val_loss: 0.4383 - val_accuracy: 0.8750\n",
      "Epoch 13/100\n",
      "17/17 [==============================] - 0s 29ms/step - loss: 0.2760 - accuracy: 0.9167 - val_loss: 0.3507 - val_accuracy: 0.8393\n",
      "Epoch 14/100\n",
      "17/17 [==============================] - 0s 28ms/step - loss: 0.3201 - accuracy: 0.8864 - val_loss: 0.4280 - val_accuracy: 0.8214\n",
      "Epoch 15/100\n",
      "17/17 [==============================] - 0s 28ms/step - loss: 0.2881 - accuracy: 0.8712 - val_loss: 0.3090 - val_accuracy: 0.8750\n",
      "Epoch 16/100\n",
      "17/17 [==============================] - 0s 28ms/step - loss: 0.2272 - accuracy: 0.9167 - val_loss: 0.4739 - val_accuracy: 0.8571\n",
      "Epoch 17/100\n",
      "17/17 [==============================] - 0s 28ms/step - loss: 0.2528 - accuracy: 0.8788 - val_loss: 0.3145 - val_accuracy: 0.8750\n",
      "Epoch 18/100\n",
      "17/17 [==============================] - 0s 28ms/step - loss: 0.2050 - accuracy: 0.9318 - val_loss: 0.3404 - val_accuracy: 0.8036\n",
      "Epoch 19/100\n",
      "17/17 [==============================] - 0s 28ms/step - loss: 0.1570 - accuracy: 0.9394 - val_loss: 0.2544 - val_accuracy: 0.9107\n",
      "Epoch 20/100\n",
      "17/17 [==============================] - 0s 28ms/step - loss: 0.1182 - accuracy: 0.9621 - val_loss: 0.3248 - val_accuracy: 0.8750\n",
      "Epoch 21/100\n",
      "17/17 [==============================] - 0s 28ms/step - loss: 0.1042 - accuracy: 0.9773 - val_loss: 0.3199 - val_accuracy: 0.8393\n",
      "Epoch 22/100\n",
      "17/17 [==============================] - 0s 28ms/step - loss: 0.1843 - accuracy: 0.9242 - val_loss: 0.6179 - val_accuracy: 0.8214\n",
      "Epoch 23/100\n",
      "17/17 [==============================] - 0s 28ms/step - loss: 0.2991 - accuracy: 0.9091 - val_loss: 0.4251 - val_accuracy: 0.8750\n",
      "Epoch 24/100\n",
      "17/17 [==============================] - 0s 29ms/step - loss: 0.1539 - accuracy: 0.9318 - val_loss: 0.2603 - val_accuracy: 0.8929\n",
      "Epoch 25/100\n",
      "17/17 [==============================] - 0s 28ms/step - loss: 0.1078 - accuracy: 0.9545 - val_loss: 0.2754 - val_accuracy: 0.9107\n",
      "Epoch 26/100\n",
      "17/17 [==============================] - 0s 28ms/step - loss: 0.0656 - accuracy: 0.9848 - val_loss: 0.2872 - val_accuracy: 0.8929\n",
      "Epoch 27/100\n",
      "17/17 [==============================] - 0s 28ms/step - loss: 0.0350 - accuracy: 1.0000 - val_loss: 0.2918 - val_accuracy: 0.8929\n",
      "Epoch 28/100\n",
      "17/17 [==============================] - 0s 28ms/step - loss: 0.0323 - accuracy: 1.0000 - val_loss: 0.2855 - val_accuracy: 0.9107\n",
      "Epoch 29/100\n",
      "17/17 [==============================] - 0s 28ms/step - loss: 0.0214 - accuracy: 1.0000 - val_loss: 0.2987 - val_accuracy: 0.8929\n",
      "Epoch 30/100\n",
      "17/17 [==============================] - 0s 28ms/step - loss: 0.0181 - accuracy: 1.0000 - val_loss: 0.3625 - val_accuracy: 0.8750\n",
      "Epoch 31/100\n",
      "17/17 [==============================] - 0s 28ms/step - loss: 0.0193 - accuracy: 1.0000 - val_loss: 0.3263 - val_accuracy: 0.8750\n",
      "Epoch 32/100\n",
      "17/17 [==============================] - 0s 29ms/step - loss: 0.0115 - accuracy: 1.0000 - val_loss: 0.3423 - val_accuracy: 0.8929\n",
      "Epoch 33/100\n",
      "17/17 [==============================] - 0s 29ms/step - loss: 0.0140 - accuracy: 1.0000 - val_loss: 0.3447 - val_accuracy: 0.8929\n",
      "Epoch 34/100\n",
      "17/17 [==============================] - 0s 29ms/step - loss: 0.0127 - accuracy: 1.0000 - val_loss: 0.3275 - val_accuracy: 0.8750\n",
      "Epoch 35/100\n",
      "17/17 [==============================] - 0s 29ms/step - loss: 0.0119 - accuracy: 1.0000 - val_loss: 0.3684 - val_accuracy: 0.9107\n",
      "Epoch 36/100\n",
      "17/17 [==============================] - 0s 28ms/step - loss: 0.0070 - accuracy: 1.0000 - val_loss: 0.3355 - val_accuracy: 0.8750\n",
      "Epoch 37/100\n",
      "17/17 [==============================] - 0s 28ms/step - loss: 0.0071 - accuracy: 1.0000 - val_loss: 0.3952 - val_accuracy: 0.8929\n",
      "Epoch 38/100\n",
      "17/17 [==============================] - 0s 28ms/step - loss: 0.0048 - accuracy: 1.0000 - val_loss: 0.3505 - val_accuracy: 0.9107\n",
      "Epoch 39/100\n",
      "17/17 [==============================] - 0s 28ms/step - loss: 0.0054 - accuracy: 1.0000 - val_loss: 0.3747 - val_accuracy: 0.8929\n",
      "Epoch 40/100\n",
      "17/17 [==============================] - 0s 28ms/step - loss: 0.0041 - accuracy: 1.0000 - val_loss: 0.3867 - val_accuracy: 0.8929\n",
      "Epoch 41/100\n",
      "17/17 [==============================] - 0s 28ms/step - loss: 0.0050 - accuracy: 1.0000 - val_loss: 0.3773 - val_accuracy: 0.8929\n",
      "Epoch 42/100\n",
      "17/17 [==============================] - 0s 28ms/step - loss: 0.0044 - accuracy: 1.0000 - val_loss: 0.3852 - val_accuracy: 0.8929\n",
      "Epoch 43/100\n",
      "17/17 [==============================] - 0s 28ms/step - loss: 0.0036 - accuracy: 1.0000 - val_loss: 0.3869 - val_accuracy: 0.8750\n",
      "Epoch 44/100\n",
      "17/17 [==============================] - 0s 28ms/step - loss: 0.0028 - accuracy: 1.0000 - val_loss: 0.4120 - val_accuracy: 0.8929\n",
      "Epoch 45/100\n",
      "17/17 [==============================] - 0s 28ms/step - loss: 0.0026 - accuracy: 1.0000 - val_loss: 0.4182 - val_accuracy: 0.8929\n",
      "Epoch 46/100\n",
      "17/17 [==============================] - 0s 28ms/step - loss: 0.0025 - accuracy: 1.0000 - val_loss: 0.4041 - val_accuracy: 0.8750\n",
      "Epoch 47/100\n",
      "17/17 [==============================] - 0s 28ms/step - loss: 0.0021 - accuracy: 1.0000 - val_loss: 0.4168 - val_accuracy: 0.8929\n",
      "Epoch 48/100\n",
      "17/17 [==============================] - 0s 28ms/step - loss: 0.0020 - accuracy: 1.0000 - val_loss: 0.4378 - val_accuracy: 0.8929\n",
      "Epoch 49/100\n",
      "17/17 [==============================] - 0s 28ms/step - loss: 0.0018 - accuracy: 1.0000 - val_loss: 0.4245 - val_accuracy: 0.8750\n",
      "Epoch 50/100\n",
      "17/17 [==============================] - 0s 28ms/step - loss: 0.0013 - accuracy: 1.0000 - val_loss: 0.4426 - val_accuracy: 0.8750\n",
      "Epoch 51/100\n",
      "17/17 [==============================] - 0s 28ms/step - loss: 0.0011 - accuracy: 1.0000 - val_loss: 0.4497 - val_accuracy: 0.8929\n",
      "Epoch 52/100\n",
      "17/17 [==============================] - 0s 28ms/step - loss: 0.0013 - accuracy: 1.0000 - val_loss: 0.4623 - val_accuracy: 0.8929\n",
      "Epoch 53/100\n",
      "17/17 [==============================] - 0s 28ms/step - loss: 0.0013 - accuracy: 1.0000 - val_loss: 0.4491 - val_accuracy: 0.8929\n",
      "Epoch 54/100\n",
      "17/17 [==============================] - 0s 28ms/step - loss: 0.0011 - accuracy: 1.0000 - val_loss: 0.4536 - val_accuracy: 0.8750\n",
      "Epoch 55/100\n",
      "17/17 [==============================] - 0s 28ms/step - loss: 8.7551e-04 - accuracy: 1.0000 - val_loss: 0.4505 - val_accuracy: 0.8929\n",
      "Epoch 56/100\n",
      "17/17 [==============================] - 0s 29ms/step - loss: 0.0010 - accuracy: 1.0000 - val_loss: 0.4554 - val_accuracy: 0.8929\n",
      "Epoch 57/100\n",
      "17/17 [==============================] - 0s 28ms/step - loss: 0.0011 - accuracy: 1.0000 - val_loss: 0.4505 - val_accuracy: 0.8750\n",
      "Epoch 58/100\n"
     ]
    },
    {
     "name": "stdout",
     "output_type": "stream",
     "text": [
      "17/17 [==============================] - 0s 28ms/step - loss: 9.0568e-04 - accuracy: 1.0000 - val_loss: 0.4593 - val_accuracy: 0.8929\n",
      "Epoch 59/100\n",
      "17/17 [==============================] - 0s 28ms/step - loss: 8.2380e-04 - accuracy: 1.0000 - val_loss: 0.4814 - val_accuracy: 0.8929\n",
      "Epoch 60/100\n",
      "17/17 [==============================] - 0s 28ms/step - loss: 0.0012 - accuracy: 1.0000 - val_loss: 0.4553 - val_accuracy: 0.8750\n",
      "Epoch 61/100\n",
      "17/17 [==============================] - 0s 28ms/step - loss: 7.9738e-04 - accuracy: 1.0000 - val_loss: 0.4629 - val_accuracy: 0.8750\n",
      "Epoch 62/100\n",
      "17/17 [==============================] - 0s 28ms/step - loss: 8.1093e-04 - accuracy: 1.0000 - val_loss: 0.4766 - val_accuracy: 0.8929\n",
      "Epoch 63/100\n",
      "17/17 [==============================] - 0s 28ms/step - loss: 7.1709e-04 - accuracy: 1.0000 - val_loss: 0.4863 - val_accuracy: 0.8929\n",
      "Epoch 64/100\n",
      "17/17 [==============================] - 0s 28ms/step - loss: 7.8298e-04 - accuracy: 1.0000 - val_loss: 0.4879 - val_accuracy: 0.8929\n",
      "Epoch 65/100\n",
      "17/17 [==============================] - 0s 28ms/step - loss: 6.7710e-04 - accuracy: 1.0000 - val_loss: 0.4857 - val_accuracy: 0.8929\n",
      "Epoch 66/100\n",
      "17/17 [==============================] - 0s 28ms/step - loss: 5.9970e-04 - accuracy: 1.0000 - val_loss: 0.4800 - val_accuracy: 0.8929\n",
      "Epoch 67/100\n",
      "17/17 [==============================] - 0s 28ms/step - loss: 6.9096e-04 - accuracy: 1.0000 - val_loss: 0.5018 - val_accuracy: 0.8750\n",
      "Epoch 68/100\n",
      "17/17 [==============================] - 0s 28ms/step - loss: 5.6631e-04 - accuracy: 1.0000 - val_loss: 0.4848 - val_accuracy: 0.8929\n",
      "Epoch 69/100\n",
      "17/17 [==============================] - 0s 28ms/step - loss: 6.4252e-04 - accuracy: 1.0000 - val_loss: 0.4836 - val_accuracy: 0.8929\n",
      "Epoch 70/100\n",
      "17/17 [==============================] - 0s 29ms/step - loss: 6.7256e-04 - accuracy: 1.0000 - val_loss: 0.4786 - val_accuracy: 0.8929\n",
      "Epoch 71/100\n",
      "17/17 [==============================] - 0s 28ms/step - loss: 6.2292e-04 - accuracy: 1.0000 - val_loss: 0.4892 - val_accuracy: 0.8929\n",
      "Epoch 72/100\n",
      "17/17 [==============================] - 0s 28ms/step - loss: 6.0384e-04 - accuracy: 1.0000 - val_loss: 0.4894 - val_accuracy: 0.8929\n",
      "Epoch 73/100\n",
      "17/17 [==============================] - 0s 28ms/step - loss: 3.5961e-04 - accuracy: 1.0000 - val_loss: 0.5019 - val_accuracy: 0.8929\n",
      "Epoch 74/100\n",
      "17/17 [==============================] - 1s 30ms/step - loss: 3.8112e-04 - accuracy: 1.0000 - val_loss: 0.5087 - val_accuracy: 0.8929\n",
      "Epoch 75/100\n",
      "17/17 [==============================] - 0s 29ms/step - loss: 4.3142e-04 - accuracy: 1.0000 - val_loss: 0.4986 - val_accuracy: 0.8929\n",
      "Epoch 76/100\n",
      "17/17 [==============================] - 0s 28ms/step - loss: 4.4125e-04 - accuracy: 1.0000 - val_loss: 0.5035 - val_accuracy: 0.8929\n",
      "Epoch 77/100\n",
      "17/17 [==============================] - 0s 28ms/step - loss: 4.0875e-04 - accuracy: 1.0000 - val_loss: 0.5036 - val_accuracy: 0.8929\n",
      "Epoch 78/100\n",
      "17/17 [==============================] - 0s 28ms/step - loss: 3.4108e-04 - accuracy: 1.0000 - val_loss: 0.5020 - val_accuracy: 0.8929\n",
      "Epoch 79/100\n",
      "17/17 [==============================] - 0s 28ms/step - loss: 3.4322e-04 - accuracy: 1.0000 - val_loss: 0.5068 - val_accuracy: 0.8929\n",
      "Epoch 80/100\n",
      "17/17 [==============================] - 0s 28ms/step - loss: 3.2441e-04 - accuracy: 1.0000 - val_loss: 0.5159 - val_accuracy: 0.8929\n",
      "Epoch 81/100\n",
      "17/17 [==============================] - 0s 28ms/step - loss: 4.0412e-04 - accuracy: 1.0000 - val_loss: 0.5084 - val_accuracy: 0.8929\n",
      "Epoch 82/100\n",
      "17/17 [==============================] - 0s 28ms/step - loss: 4.4844e-04 - accuracy: 1.0000 - val_loss: 0.5058 - val_accuracy: 0.8929\n",
      "Epoch 83/100\n",
      "17/17 [==============================] - 0s 28ms/step - loss: 3.0912e-04 - accuracy: 1.0000 - val_loss: 0.5087 - val_accuracy: 0.8929\n",
      "Epoch 84/100\n",
      "17/17 [==============================] - 0s 28ms/step - loss: 3.3279e-04 - accuracy: 1.0000 - val_loss: 0.5144 - val_accuracy: 0.8929\n",
      "Epoch 85/100\n",
      "17/17 [==============================] - 0s 28ms/step - loss: 3.9892e-04 - accuracy: 1.0000 - val_loss: 0.5111 - val_accuracy: 0.8929\n",
      "Epoch 86/100\n",
      "17/17 [==============================] - 0s 28ms/step - loss: 2.6386e-04 - accuracy: 1.0000 - val_loss: 0.5091 - val_accuracy: 0.8929\n",
      "Epoch 87/100\n",
      "17/17 [==============================] - 0s 28ms/step - loss: 3.0095e-04 - accuracy: 1.0000 - val_loss: 0.5191 - val_accuracy: 0.8929\n",
      "Epoch 88/100\n",
      "17/17 [==============================] - 0s 28ms/step - loss: 3.6560e-04 - accuracy: 1.0000 - val_loss: 0.5299 - val_accuracy: 0.8929\n",
      "Epoch 89/100\n",
      "17/17 [==============================] - 0s 28ms/step - loss: 2.9639e-04 - accuracy: 1.0000 - val_loss: 0.5311 - val_accuracy: 0.8929\n",
      "Epoch 90/100\n",
      "17/17 [==============================] - 0s 28ms/step - loss: 3.5114e-04 - accuracy: 1.0000 - val_loss: 0.5239 - val_accuracy: 0.8929\n",
      "Epoch 91/100\n",
      "17/17 [==============================] - 0s 28ms/step - loss: 2.6187e-04 - accuracy: 1.0000 - val_loss: 0.5207 - val_accuracy: 0.8929\n",
      "Epoch 92/100\n",
      "17/17 [==============================] - 0s 28ms/step - loss: 2.7757e-04 - accuracy: 1.0000 - val_loss: 0.5210 - val_accuracy: 0.8750\n",
      "Epoch 93/100\n",
      "17/17 [==============================] - 0s 28ms/step - loss: 2.0785e-04 - accuracy: 1.0000 - val_loss: 0.5218 - val_accuracy: 0.8750\n",
      "Epoch 94/100\n",
      "17/17 [==============================] - 0s 28ms/step - loss: 2.8073e-04 - accuracy: 1.0000 - val_loss: 0.5263 - val_accuracy: 0.8929\n",
      "Epoch 95/100\n",
      "17/17 [==============================] - 0s 28ms/step - loss: 2.5859e-04 - accuracy: 1.0000 - val_loss: 0.5293 - val_accuracy: 0.8929\n",
      "Epoch 96/100\n",
      "17/17 [==============================] - 0s 28ms/step - loss: 3.0707e-04 - accuracy: 1.0000 - val_loss: 0.5281 - val_accuracy: 0.8750\n",
      "Epoch 97/100\n",
      "17/17 [==============================] - 0s 28ms/step - loss: 2.1936e-04 - accuracy: 1.0000 - val_loss: 0.5279 - val_accuracy: 0.8750\n",
      "Epoch 98/100\n",
      "17/17 [==============================] - 0s 28ms/step - loss: 1.8265e-04 - accuracy: 1.0000 - val_loss: 0.5353 - val_accuracy: 0.8929\n",
      "Epoch 99/100\n",
      "17/17 [==============================] - 0s 28ms/step - loss: 1.9833e-04 - accuracy: 1.0000 - val_loss: 0.5380 - val_accuracy: 0.8929\n",
      "Epoch 100/100\n",
      "17/17 [==============================] - 0s 28ms/step - loss: 2.4620e-04 - accuracy: 1.0000 - val_loss: 0.5416 - val_accuracy: 0.8929\n"
     ]
    }
   ],
   "source": [
    "history = model.fit(x_train_embedd,y_train_oh,\n",
    "         batch_size=8,\n",
    "          epochs=100,\n",
    "         validation_data=(x_test_embedd,y_test_oh))"
   ]
  },
  {
   "cell_type": "code",
   "execution_count": 16,
   "id": "718b8aee",
   "metadata": {},
   "outputs": [
    {
     "name": "stdout",
     "output_type": "stream",
     "text": [
      "1/1 [==============================] - 1s 826ms/step\n",
      "not sad 😔\n",
      "i adore you ❤️\n",
      "i love you ❤️\n",
      "funny lol 😆\n",
      "lets play with a ball 🏐\n",
      "food is ready 🍽️\n",
      "not feeling happy 😔\n"
     ]
    }
   ],
   "source": [
    "x_example = np.array([\"not sad\", \"i adore you\", \"i love you\", \"funny lol\", \"lets play with a ball\", \"food is ready\", \"not feeling happy\"])\n",
    "y_example = np.array([[2],[0],[0],[2],[1],[4],[3]])\n",
    "x_example_embedd = convert_to_embedding(x_example)\n",
    "pred = model.predict(x_example_embedd)\n",
    "for i in range(x_example.shape[0]):\n",
    "    print(x_example[i], label_to_emoji(np.argmax(pred[i])))"
   ]
  }
 ],
 "metadata": {
  "kernelspec": {
   "display_name": "Python 3 (ipykernel)",
   "language": "python",
   "name": "python3"
  },
  "language_info": {
   "codemirror_mode": {
    "name": "ipython",
    "version": 3
   },
   "file_extension": ".py",
   "mimetype": "text/x-python",
   "name": "python",
   "nbconvert_exporter": "python",
   "pygments_lexer": "ipython3",
   "version": "3.9.13"
  }
 },
 "nbformat": 4,
 "nbformat_minor": 5
}
