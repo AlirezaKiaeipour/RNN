{
 "cells": [
  {
   "cell_type": "markdown",
   "metadata": {},
   "source": [
    "## Import Libraries & Load Dataset"
   ]
  },
  {
   "cell_type": "code",
   "execution_count": 1,
   "metadata": {
    "id": "aLQ-ng2e7b90"
   },
   "outputs": [],
   "source": [
    "import pickle\n",
    "import numpy as np\n",
    "import pandas as pd\n",
    "from sklearn.preprocessing import StandardScaler\n",
    "import torch\n",
    "import torch.nn as nn\n",
    "import matplotlib.pyplot as plt"
   ]
  },
  {
   "cell_type": "markdown",
   "metadata": {},
   "source": [
    "## Tesla Dataset"
   ]
  },
  {
   "cell_type": "code",
   "execution_count": 2,
   "metadata": {
    "colab": {
     "base_uri": "https://localhost:8080/",
     "height": 206
    },
    "id": "n7xMcTlLB6-p",
    "outputId": "22c1f3e6-b639-4ecf-edaa-7cad301acf65"
   },
   "outputs": [
    {
     "data": {
      "text/html": [
       "<div>\n",
       "<style scoped>\n",
       "    .dataframe tbody tr th:only-of-type {\n",
       "        vertical-align: middle;\n",
       "    }\n",
       "\n",
       "    .dataframe tbody tr th {\n",
       "        vertical-align: top;\n",
       "    }\n",
       "\n",
       "    .dataframe thead th {\n",
       "        text-align: right;\n",
       "    }\n",
       "</style>\n",
       "<table border=\"1\" class=\"dataframe\">\n",
       "  <thead>\n",
       "    <tr style=\"text-align: right;\">\n",
       "      <th></th>\n",
       "      <th>Date</th>\n",
       "      <th>Open</th>\n",
       "      <th>High</th>\n",
       "      <th>Low</th>\n",
       "      <th>Close</th>\n",
       "      <th>Volume</th>\n",
       "      <th>Adj Close</th>\n",
       "    </tr>\n",
       "  </thead>\n",
       "  <tbody>\n",
       "    <tr>\n",
       "      <th>0</th>\n",
       "      <td>6/29/2010</td>\n",
       "      <td>19.000000</td>\n",
       "      <td>25.00</td>\n",
       "      <td>17.540001</td>\n",
       "      <td>23.889999</td>\n",
       "      <td>18766300</td>\n",
       "      <td>23.889999</td>\n",
       "    </tr>\n",
       "    <tr>\n",
       "      <th>1</th>\n",
       "      <td>6/30/2010</td>\n",
       "      <td>25.790001</td>\n",
       "      <td>30.42</td>\n",
       "      <td>23.299999</td>\n",
       "      <td>23.830000</td>\n",
       "      <td>17187100</td>\n",
       "      <td>23.830000</td>\n",
       "    </tr>\n",
       "    <tr>\n",
       "      <th>2</th>\n",
       "      <td>7/1/2010</td>\n",
       "      <td>25.000000</td>\n",
       "      <td>25.92</td>\n",
       "      <td>20.270000</td>\n",
       "      <td>21.959999</td>\n",
       "      <td>8218800</td>\n",
       "      <td>21.959999</td>\n",
       "    </tr>\n",
       "    <tr>\n",
       "      <th>3</th>\n",
       "      <td>7/2/2010</td>\n",
       "      <td>23.000000</td>\n",
       "      <td>23.10</td>\n",
       "      <td>18.709999</td>\n",
       "      <td>19.200001</td>\n",
       "      <td>5139800</td>\n",
       "      <td>19.200001</td>\n",
       "    </tr>\n",
       "    <tr>\n",
       "      <th>4</th>\n",
       "      <td>7/6/2010</td>\n",
       "      <td>20.000000</td>\n",
       "      <td>20.00</td>\n",
       "      <td>15.830000</td>\n",
       "      <td>16.110001</td>\n",
       "      <td>6866900</td>\n",
       "      <td>16.110001</td>\n",
       "    </tr>\n",
       "  </tbody>\n",
       "</table>\n",
       "</div>"
      ],
      "text/plain": [
       "        Date       Open   High        Low      Close    Volume  Adj Close\n",
       "0  6/29/2010  19.000000  25.00  17.540001  23.889999  18766300  23.889999\n",
       "1  6/30/2010  25.790001  30.42  23.299999  23.830000  17187100  23.830000\n",
       "2   7/1/2010  25.000000  25.92  20.270000  21.959999   8218800  21.959999\n",
       "3   7/2/2010  23.000000  23.10  18.709999  19.200001   5139800  19.200001\n",
       "4   7/6/2010  20.000000  20.00  15.830000  16.110001   6866900  16.110001"
      ]
     },
     "execution_count": 2,
     "metadata": {},
     "output_type": "execute_result"
    }
   ],
   "source": [
    "data = pd.read_csv(\"Tesla.csv - Tesla.csv.csv\")\n",
    "data.head()"
   ]
  },
  {
   "cell_type": "code",
   "execution_count": 3,
   "metadata": {
    "colab": {
     "base_uri": "https://localhost:8080/",
     "height": 206
    },
    "id": "KPIMY1QGB8rw",
    "outputId": "293c8fe6-4976-423b-d06d-bad8b1d334d3"
   },
   "outputs": [
    {
     "data": {
      "text/html": [
       "<div>\n",
       "<style scoped>\n",
       "    .dataframe tbody tr th:only-of-type {\n",
       "        vertical-align: middle;\n",
       "    }\n",
       "\n",
       "    .dataframe tbody tr th {\n",
       "        vertical-align: top;\n",
       "    }\n",
       "\n",
       "    .dataframe thead th {\n",
       "        text-align: right;\n",
       "    }\n",
       "</style>\n",
       "<table border=\"1\" class=\"dataframe\">\n",
       "  <thead>\n",
       "    <tr style=\"text-align: right;\">\n",
       "      <th></th>\n",
       "      <th>Date</th>\n",
       "      <th>Close</th>\n",
       "    </tr>\n",
       "  </thead>\n",
       "  <tbody>\n",
       "    <tr>\n",
       "      <th>0</th>\n",
       "      <td>2010-06-29</td>\n",
       "      <td>23.889999</td>\n",
       "    </tr>\n",
       "    <tr>\n",
       "      <th>1</th>\n",
       "      <td>2010-06-30</td>\n",
       "      <td>23.830000</td>\n",
       "    </tr>\n",
       "    <tr>\n",
       "      <th>2</th>\n",
       "      <td>2010-07-01</td>\n",
       "      <td>21.959999</td>\n",
       "    </tr>\n",
       "    <tr>\n",
       "      <th>3</th>\n",
       "      <td>2010-07-02</td>\n",
       "      <td>19.200001</td>\n",
       "    </tr>\n",
       "    <tr>\n",
       "      <th>4</th>\n",
       "      <td>2010-07-06</td>\n",
       "      <td>16.110001</td>\n",
       "    </tr>\n",
       "  </tbody>\n",
       "</table>\n",
       "</div>"
      ],
      "text/plain": [
       "        Date      Close\n",
       "0 2010-06-29  23.889999\n",
       "1 2010-06-30  23.830000\n",
       "2 2010-07-01  21.959999\n",
       "3 2010-07-02  19.200001\n",
       "4 2010-07-06  16.110001"
      ]
     },
     "execution_count": 3,
     "metadata": {},
     "output_type": "execute_result"
    }
   ],
   "source": [
    "data = data[[\"Date\",\"Close\"]]\n",
    "data[\"Date\"] = pd.to_datetime(data[\"Date\"])\n",
    "data.head()"
   ]
  },
  {
   "cell_type": "code",
   "execution_count": 4,
   "metadata": {
    "colab": {
     "base_uri": "https://localhost:8080/",
     "height": 483
    },
    "id": "fMnRk8oeB-Vh",
    "outputId": "6ca5f0f8-0fd8-4472-8225-7cf8ba2fd278",
    "scrolled": true
   },
   "outputs": [
    {
     "data": {
      "text/plain": [
       "<AxesSubplot:xlabel='Date', ylabel='Price'>"
      ]
     },
     "execution_count": 4,
     "metadata": {},
     "output_type": "execute_result"
    },
    {
     "data": {
      "image/png": "[encoded data removed]",
      "text/plain": [
       "<Figure size 1296x576 with 1 Axes>"
      ]
     },
     "metadata": {
      "needs_background": "light"
     },
     "output_type": "display_data"
    }
   ],
   "source": [
    "data.set_index(\"Date\").plot(figsize=(18,8),xlabel=\"Date\",ylabel=\"Price\")"
   ]
  },
  {
   "cell_type": "markdown",
   "metadata": {},
   "source": [
    "# Preprocessing"
   ]
  },
  {
   "cell_type": "code",
   "execution_count": 5,
   "metadata": {
    "id": "oot4OeK0CBST"
   },
   "outputs": [],
   "source": [
    "X = data[[\"Close\"]]\n",
    "Train , Test = X[:1500],X[1500:]"
   ]
  },
  {
   "cell_type": "markdown",
   "metadata": {},
   "source": [
    "## Scaling\n",
    "### StandardScaler"
   ]
  },
  {
   "cell_type": "code",
   "execution_count": 6,
   "metadata": {
    "id": "z98L4TQ_CDGo"
   },
   "outputs": [],
   "source": [
    "scale = StandardScaler()\n",
    "Train = scale.fit_transform(Train)\n",
    "Test = scale.transform(Test)\n",
    "with open(\"StandardScaler\",\"wb\") as f:\n",
    "    pickle.dump(scale,f)"
   ]
  },
  {
   "cell_type": "code",
   "execution_count": 7,
   "metadata": {
    "id": "6X7wUbS_CEp_"
   },
   "outputs": [],
   "source": [
    "def convertSignalToDataset(signal,step):\n",
    "    X,Y = [],[]\n",
    "    for i in range(len(signal)-step):\n",
    "        j = i+step\n",
    "        X.append(signal[i:j])\n",
    "        Y.append(signal[j])\n",
    "        \n",
    "    X,Y = np.array(X), np.array(Y)\n",
    "    return torch.Tensor(X), torch.Tensor(Y)"
   ]
  },
  {
   "cell_type": "code",
   "execution_count": 8,
   "metadata": {
    "id": "kmoPMPmDCGF1"
   },
   "outputs": [],
   "source": [
    "X_train, Y_train = convertSignalToDataset(Train,10)\n",
    "X_test , Y_test = convertSignalToDataset(Test,10)"
   ]
  },
  {
   "cell_type": "markdown",
   "metadata": {},
   "source": [
    "# Model\n",
    "## Recurrent Neural Network"
   ]
  },
  {
   "cell_type": "markdown",
   "metadata": {},
   "source": [
    "## LSTM"
   ]
  },
  {
   "cell_type": "code",
   "execution_count": 10,
   "metadata": {
    "id": "B7om_DkMCIcq"
   },
   "outputs": [],
   "source": [
    "class RNN(nn.Module):\n",
    "    def __init__(self,input_size,hidden_size,num_layers,num_classes):\n",
    "        super().__init__()\n",
    "        self.hidden_size = hidden_size\n",
    "        self.num_layers = num_layers\n",
    "        self.lstm = nn.LSTM(input_size=input_size,hidden_size=hidden_size,num_layers=num_layers,batch_first=True)\n",
    "        self.fc = nn.Linear(hidden_size,num_classes)\n",
    "        \n",
    "    def forward(self,x):\n",
    "        h_0 = torch.zeros(self.num_layers,x.size(0),self.hidden_size)\n",
    "        c_0 = torch.zeros(self.num_layers,x.size(0),self.hidden_size)\n",
    "        \n",
    "        x,_ = self.lstm(x, (h_0, c_0))\n",
    "        x = x[:,-1,:]\n",
    "        x = self.fc(x)\n",
    "        \n",
    "        return x"
   ]
  },
  {
   "cell_type": "code",
   "execution_count": 11,
   "metadata": {
    "id": "TunjCKJeCQ54"
   },
   "outputs": [],
   "source": [
    "device = torch.device(\"cuda\" if torch.cuda.is_available() else \"cpu\")\n",
    "model = RNN(input_size=1,hidden_size=64,num_layers=1,num_classes=1).to(device)"
   ]
  },
  {
   "cell_type": "code",
   "execution_count": 12,
   "metadata": {
    "colab": {
     "base_uri": "https://localhost:8080/"
    },
    "id": "PJnWdZlRCTTZ",
    "outputId": "17164cb2-5b62-484e-f9a5-c0168ace8797",
    "scrolled": false
   },
   "outputs": [],
   "source": [
    "optimizer = torch.optim.Adam(model.parameters(),lr=0.001)\n",
    "loss_function = nn.MSELoss()"
   ]
  },
  {
   "cell_type": "code",
   "execution_count": 13,
   "metadata": {},
   "outputs": [
    {
     "name": "stdout",
     "output_type": "stream",
     "text": [
      "Epochs: 1, Loss: 0.9488527774810791\n",
      "Epochs: 2, Loss: 0.9307845830917358\n",
      "Epochs: 3, Loss: 0.9125509858131409\n",
      "Epochs: 4, Loss: 0.8940516710281372\n",
      "Epochs: 5, Loss: 0.8751910328865051\n",
      "Epochs: 6, Loss: 0.8558601140975952\n",
      "Epochs: 7, Loss: 0.8359386324882507\n",
      "Epochs: 8, Loss: 0.8152927160263062\n",
      "Epochs: 9, Loss: 0.7937691807746887\n",
      "Epochs: 10, Loss: 0.7711926102638245\n",
      "Epochs: 11, Loss: 0.7473669052124023\n",
      "Epochs: 12, Loss: 0.7220790982246399\n",
      "Epochs: 13, Loss: 0.6951044201850891\n",
      "Epochs: 14, Loss: 0.6662111282348633\n",
      "Epochs: 15, Loss: 0.6351688504219055\n",
      "Epochs: 16, Loss: 0.6017632484436035\n",
      "Epochs: 17, Loss: 0.5658213496208191\n",
      "Epochs: 18, Loss: 0.5272530317306519\n",
      "Epochs: 19, Loss: 0.48611360788345337\n",
      "Epochs: 20, Loss: 0.4426928758621216\n",
      "Epochs: 21, Loss: 0.3976261019706726\n",
      "Epochs: 22, Loss: 0.352018266916275\n",
      "Epochs: 23, Loss: 0.30757302045822144\n",
      "Epochs: 24, Loss: 0.2666287124156952\n",
      "Epochs: 25, Loss: 0.23184746503829956\n",
      "Epochs: 26, Loss: 0.20517565310001373\n",
      "Epochs: 27, Loss: 0.1858832985162735\n",
      "Epochs: 28, Loss: 0.16938269138336182\n",
      "Epochs: 29, Loss: 0.15024161338806152\n",
      "Epochs: 30, Loss: 0.1264490783214569\n",
      "Epochs: 31, Loss: 0.09962381422519684\n",
      "Epochs: 32, Loss: 0.07304368168115616\n",
      "Epochs: 33, Loss: 0.04995707422494888\n",
      "Epochs: 34, Loss: 0.03263410925865173\n",
      "Epochs: 35, Loss: 0.022042473778128624\n",
      "Epochs: 36, Loss: 0.017967581748962402\n",
      "Epochs: 37, Loss: 0.019348107278347015\n",
      "Epochs: 38, Loss: 0.024603819474577904\n",
      "Epochs: 39, Loss: 0.03185898810625076\n",
      "Epochs: 40, Loss: 0.03914361074566841\n",
      "Epochs: 41, Loss: 0.04472050070762634\n",
      "Epochs: 42, Loss: 0.047492433339357376\n",
      "Epochs: 43, Loss: 0.0472198948264122\n",
      "Epochs: 44, Loss: 0.04441222548484802\n",
      "Epochs: 45, Loss: 0.04001162201166153\n",
      "Epochs: 46, Loss: 0.0350467823445797\n",
      "Epochs: 47, Loss: 0.030363019555807114\n",
      "Epochs: 48, Loss: 0.02647355943918228\n",
      "Epochs: 49, Loss: 0.02354050613939762\n",
      "Epochs: 50, Loss: 0.02146502025425434\n",
      "Epochs: 51, Loss: 0.020034559071063995\n",
      "Epochs: 52, Loss: 0.019058089703321457\n",
      "Epochs: 53, Loss: 0.01843465305864811\n",
      "Epochs: 54, Loss: 0.01814345270395279\n",
      "Epochs: 55, Loss: 0.018185634166002274\n",
      "Epochs: 56, Loss: 0.018524451181292534\n",
      "Epochs: 57, Loss: 0.019057471305131912\n",
      "Epochs: 58, Loss: 0.01962883584201336\n",
      "Epochs: 59, Loss: 0.02006823755800724\n",
      "Epochs: 60, Loss: 0.020235205069184303\n",
      "Epochs: 61, Loss: 0.02005140297114849\n",
      "Epochs: 62, Loss: 0.019513003528118134\n",
      "Epochs: 63, Loss: 0.018683316186070442\n",
      "Epochs: 64, Loss: 0.017671382054686546\n",
      "Epochs: 65, Loss: 0.016603734344244003\n",
      "Epochs: 66, Loss: 0.015596742741763592\n",
      "Epochs: 67, Loss: 0.01473566610366106\n",
      "Epochs: 68, Loss: 0.01406435389071703\n",
      "Epochs: 69, Loss: 0.013586331158876419\n",
      "Epochs: 70, Loss: 0.01327494066208601\n",
      "Epochs: 71, Loss: 0.013087566941976547\n",
      "Epochs: 72, Loss: 0.012978858314454556\n",
      "Epochs: 73, Loss: 0.01290937326848507\n",
      "Epochs: 74, Loss: 0.012848952785134315\n",
      "Epochs: 75, Loss: 0.012776295654475689\n",
      "Epochs: 76, Loss: 0.012677106074988842\n",
      "Epochs: 77, Loss: 0.012542709708213806\n",
      "Epochs: 78, Loss: 0.012369658797979355\n",
      "Epochs: 79, Loss: 0.012160010635852814\n",
      "Epochs: 80, Loss: 0.011921411380171776\n",
      "Epochs: 81, Loss: 0.011666444130241871\n",
      "Epochs: 82, Loss: 0.011410966515541077\n",
      "Epochs: 83, Loss: 0.011171712540090084\n",
      "Epochs: 84, Loss: 0.010963542386889458\n",
      "Epochs: 85, Loss: 0.010796896182000637\n",
      "Epochs: 86, Loss: 0.010675930418074131\n",
      "Epochs: 87, Loss: 0.010597764514386654\n",
      "Epochs: 88, Loss: 0.010553095489740372\n",
      "Epochs: 89, Loss: 0.01052817888557911\n",
      "Epochs: 90, Loss: 0.010507761500775814\n",
      "Epochs: 91, Loss: 0.010478382930159569\n",
      "Epochs: 92, Loss: 0.010431133210659027\n",
      "Epochs: 93, Loss: 0.010363196954131126\n",
      "Epochs: 94, Loss: 0.010277802124619484\n",
      "Epochs: 95, Loss: 0.010182666592299938\n",
      "Epochs: 96, Loss: 0.010087519884109497\n",
      "Epochs: 97, Loss: 0.010001447051763535\n",
      "Epochs: 98, Loss: 0.009930746629834175\n",
      "Epochs: 99, Loss: 0.009877832606434822\n",
      "Epochs: 100, Loss: 0.009841232560575008\n",
      "Epochs: 101, Loss: 0.0098165487870574\n",
      "Epochs: 102, Loss: 0.009797944687306881\n",
      "Epochs: 103, Loss: 0.009779724292457104\n",
      "Epochs: 104, Loss: 0.009757593274116516\n",
      "Epochs: 105, Loss: 0.009729355573654175\n",
      "Epochs: 106, Loss: 0.009694986045360565\n",
      "Epochs: 107, Loss: 0.00965616013854742\n",
      "Epochs: 108, Loss: 0.009615469723939896\n",
      "Epochs: 109, Loss: 0.009575587697327137\n",
      "Epochs: 110, Loss: 0.009538586251437664\n",
      "Epochs: 111, Loss: 0.009505556896328926\n",
      "Epochs: 112, Loss: 0.009476562030613422\n",
      "Epochs: 113, Loss: 0.009450837969779968\n",
      "Epochs: 114, Loss: 0.00942714512348175\n",
      "Epochs: 115, Loss: 0.009404138661921024\n",
      "Epochs: 116, Loss: 0.00938066840171814\n",
      "Epochs: 117, Loss: 0.009355959482491016\n",
      "Epochs: 118, Loss: 0.00932968221604824\n",
      "Epochs: 119, Loss: 0.009301926009356976\n",
      "Epochs: 120, Loss: 0.009273097850382328\n",
      "Epochs: 121, Loss: 0.009243796579539776\n",
      "Epochs: 122, Loss: 0.009214658290147781\n",
      "Epochs: 123, Loss: 0.009186222217977047\n",
      "Epochs: 124, Loss: 0.009158824570477009\n",
      "Epochs: 125, Loss: 0.009132538922131062\n",
      "Epochs: 126, Loss: 0.009107179008424282\n",
      "Epochs: 127, Loss: 0.009082377888262272\n",
      "Epochs: 128, Loss: 0.009057685732841492\n",
      "Epochs: 129, Loss: 0.009032711386680603\n",
      "Epochs: 130, Loss: 0.009007218293845654\n",
      "Epochs: 131, Loss: 0.008981170132756233\n",
      "Epochs: 132, Loss: 0.008954733610153198\n",
      "Epochs: 133, Loss: 0.00892819743603468\n",
      "Epochs: 134, Loss: 0.00890187919139862\n",
      "Epochs: 135, Loss: 0.008876027539372444\n",
      "Epochs: 136, Loss: 0.008850757032632828\n",
      "Epochs: 137, Loss: 0.008826034143567085\n",
      "Epochs: 138, Loss: 0.008801699616014957\n",
      "Epochs: 139, Loss: 0.008777549490332603\n",
      "Epochs: 140, Loss: 0.008753392845392227\n",
      "Epochs: 141, Loss: 0.008729115128517151\n",
      "Epochs: 142, Loss: 0.008704695850610733\n",
      "Epochs: 143, Loss: 0.008680207654833794\n",
      "Epochs: 144, Loss: 0.00865576695650816\n",
      "Epochs: 145, Loss: 0.008631492964923382\n",
      "Epochs: 146, Loss: 0.0086074722930789\n",
      "Epochs: 147, Loss: 0.008583733811974525\n",
      "Epochs: 148, Loss: 0.00856025144457817\n",
      "Epochs: 149, Loss: 0.00853696744889021\n",
      "Epochs: 150, Loss: 0.008513811975717545\n",
      "Epochs: 151, Loss: 0.0084907291457057\n",
      "Epochs: 152, Loss: 0.00846769753843546\n",
      "Epochs: 153, Loss: 0.008444717153906822\n",
      "Epochs: 154, Loss: 0.008421813137829304\n",
      "Epochs: 155, Loss: 0.00839901715517044\n",
      "Epochs: 156, Loss: 0.00837635900825262\n",
      "Epochs: 157, Loss: 0.008353852666914463\n",
      "Epochs: 158, Loss: 0.00833150278776884\n",
      "Epochs: 159, Loss: 0.008309298194944859\n",
      "Epochs: 160, Loss: 0.008287222124636173\n",
      "Epochs: 161, Loss: 0.008265256881713867\n",
      "Epochs: 162, Loss: 0.008243389427661896\n",
      "Epochs: 163, Loss: 0.008221608586609364\n",
      "Epochs: 164, Loss: 0.008199913427233696\n",
      "Epochs: 165, Loss: 0.008178310468792915\n",
      "Epochs: 166, Loss: 0.008156806230545044\n",
      "Epochs: 167, Loss: 0.008135413751006126\n",
      "Epochs: 168, Loss: 0.00811413861811161\n",
      "Epochs: 169, Loss: 0.008092985488474369\n",
      "Epochs: 170, Loss: 0.00807194970548153\n",
      "Epochs: 171, Loss: 0.008051026612520218\n",
      "Epochs: 172, Loss: 0.008030208759009838\n",
      "Epochs: 173, Loss: 0.008009487763047218\n",
      "Epochs: 174, Loss: 0.007988858968019485\n",
      "Epochs: 175, Loss: 0.007968326099216938\n",
      "Epochs: 176, Loss: 0.0079478919506073\n",
      "Epochs: 177, Loss: 0.007927562110126019\n",
      "Epochs: 178, Loss: 0.007907342165708542\n",
      "Epochs: 179, Loss: 0.007887229323387146\n",
      "Epochs: 180, Loss: 0.00786722544580698\n",
      "Epochs: 181, Loss: 0.007847324945032597\n",
      "Epochs: 182, Loss: 0.007827522233128548\n",
      "Epochs: 183, Loss: 0.0078078159131109715\n",
      "Epochs: 184, Loss: 0.007788204122334719\n",
      "Epochs: 185, Loss: 0.007768687792122364\n",
      "Epochs: 186, Loss: 0.007749269250780344\n",
      "Epochs: 187, Loss: 0.007729950826615095\n",
      "Epochs: 188, Loss: 0.00771073205396533\n",
      "Epochs: 189, Loss: 0.007691613864153624\n",
      "Epochs: 190, Loss: 0.007672593928873539\n",
      "Epochs: 191, Loss: 0.007653668988496065\n",
      "Epochs: 192, Loss: 0.0076348427683115005\n",
      "Epochs: 193, Loss: 0.0076161096803843975\n",
      "Epochs: 194, Loss: 0.007597470656037331\n",
      "Epochs: 195, Loss: 0.007578927092254162\n",
      "Epochs: 196, Loss: 0.007560479920357466\n",
      "Epochs: 197, Loss: 0.0075421263463795185\n",
      "Epochs: 198, Loss: 0.007523868698626757\n",
      "Epochs: 199, Loss: 0.007505705114454031\n",
      "Epochs: 200, Loss: 0.0074876341968774796\n",
      "Epochs: 201, Loss: 0.007469655480235815\n",
      "Epochs: 202, Loss: 0.0074517689645290375\n",
      "Epochs: 203, Loss: 0.007433973718434572\n",
      "Epochs: 204, Loss: 0.007416266016662121\n",
      "Epochs: 205, Loss: 0.007398651447147131\n",
      "Epochs: 206, Loss: 0.0073811267502605915\n",
      "Epochs: 207, Loss: 0.0073636905290186405\n",
      "Epochs: 208, Loss: 0.007346344646066427\n",
      "Epochs: 209, Loss: 0.007329088170081377\n",
      "Epochs: 210, Loss: 0.007311920635402203\n",
      "Epochs: 211, Loss: 0.007294839713722467\n"
     ]
    },
    {
     "name": "stdout",
     "output_type": "stream",
     "text": [
      "Epochs: 212, Loss: 0.007277847267687321\n",
      "Epochs: 213, Loss: 0.007260942365974188\n",
      "Epochs: 214, Loss: 0.007244125474244356\n",
      "Epochs: 215, Loss: 0.0072273933328688145\n",
      "Epochs: 216, Loss: 0.007210747338831425\n",
      "Epochs: 217, Loss: 0.0071941870264709\n",
      "Epochs: 218, Loss: 0.007177712395787239\n",
      "Epochs: 219, Loss: 0.007161321584135294\n",
      "Epochs: 220, Loss: 0.0071450150571763515\n",
      "Epochs: 221, Loss: 0.007128790952265263\n",
      "Epochs: 222, Loss: 0.007112650200724602\n",
      "Epochs: 223, Loss: 0.007096593268215656\n",
      "Epochs: 224, Loss: 0.00708061782643199\n",
      "Epochs: 225, Loss: 0.007064723409712315\n",
      "Epochs: 226, Loss: 0.007048910483717918\n",
      "Epochs: 227, Loss: 0.007033178582787514\n",
      "Epochs: 228, Loss: 0.007017527241259813\n",
      "Epochs: 229, Loss: 0.007001955062150955\n",
      "Epochs: 230, Loss: 0.006986462511122227\n",
      "Epochs: 231, Loss: 0.006971049588173628\n",
      "Epochs: 232, Loss: 0.006955713964998722\n",
      "Epochs: 233, Loss: 0.006940457504242659\n",
      "Epochs: 234, Loss: 0.006925278343260288\n",
      "Epochs: 235, Loss: 0.006910175085067749\n",
      "Epochs: 236, Loss: 0.006895147729665041\n",
      "Epochs: 237, Loss: 0.006880198139697313\n",
      "Epochs: 238, Loss: 0.006865320727229118\n",
      "Epochs: 239, Loss: 0.006850519683212042\n",
      "Epochs: 240, Loss: 0.006835792679339647\n",
      "Epochs: 241, Loss: 0.006821139715611935\n",
      "Epochs: 242, Loss: 0.006806559395045042\n",
      "Epochs: 243, Loss: 0.006792051251977682\n",
      "Epochs: 244, Loss: 0.006777615286409855\n",
      "Epochs: 245, Loss: 0.006763251032680273\n",
      "Epochs: 246, Loss: 0.006748957093805075\n",
      "Epochs: 247, Loss: 0.0067347330041229725\n",
      "Epochs: 248, Loss: 0.006720580160617828\n",
      "Epochs: 249, Loss: 0.0067064943723380566\n",
      "Epochs: 250, Loss: 0.006692477967590094\n"
     ]
    }
   ],
   "source": [
    "for epoch in range(250):\n",
    "    model.train()\n",
    "    optimizer.zero_grad()\n",
    "    predict = model(X_train)\n",
    "    loss = loss_function(predict,Y_train)\n",
    "    loss.backward()\n",
    "    optimizer.step()\n",
    "    print(f\"Epochs: {epoch+1}, Loss: {loss}\")"
   ]
  },
  {
   "cell_type": "markdown",
   "metadata": {},
   "source": [
    "# Predict"
   ]
  },
  {
   "cell_type": "code",
   "execution_count": 14,
   "metadata": {},
   "outputs": [],
   "source": [
    "model.eval()\n",
    "pred_train = model(X_train)\n",
    "pred_train = pred_train.data.numpy()\n",
    "pred_test = model(X_test)\n",
    "pred_test = pred_test.data.numpy()\n",
    "pred_train = scale.inverse_transform(pred_train)\n",
    "pred_test = scale.inverse_transform(pred_test)\n",
    "nan_data = np.ones((1500,1)) * np.nan\n",
    "pred_test = np.concatenate((nan_data,pred_test),axis=0)"
   ]
  },
  {
   "cell_type": "code",
   "execution_count": 15,
   "metadata": {
    "colab": {
     "base_uri": "https://localhost:8080/",
     "height": 515
    },
    "id": "D6c5fY4OENJ2",
    "outputId": "e099542c-5932-4363-dc17-af19c8b1fe06"
   },
   "outputs": [
    {
     "data": {
      "image/png": "[encoded data removed]",
      "text/plain": [
       "<Figure size 1296x360 with 1 Axes>"
      ]
     },
     "metadata": {
      "needs_background": "light"
     },
     "output_type": "display_data"
    }
   ],
   "source": [
    "plt.figure(figsize=(18,5))\n",
    "plt.plot(X,label=\"Real\")\n",
    "plt.plot(pred_train,label=\"Train\")\n",
    "plt.plot(pred_test,label=\"Test\")\n",
    "plt.legend()\n",
    "plt.show()"
   ]
  }
 ],
 "metadata": {
  "colab": {
   "name": "Tesla_LSTM.ipynb",
   "provenance": []
  },
  "kernelspec": {
   "display_name": "Python 3 (ipykernel)",
   "language": "python",
   "name": "python3"
  },
  "language_info": {
   "codemirror_mode": {
    "name": "ipython",
    "version": 3
   },
   "file_extension": ".py",
   "mimetype": "text/x-python",
   "name": "python",
   "nbconvert_exporter": "python",
   "pygments_lexer": "ipython3",
   "version": "3.9.6"
  }
 },
 "nbformat": 4,
 "nbformat_minor": 1
}
