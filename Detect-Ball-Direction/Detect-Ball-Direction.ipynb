{
 "cells": [
  {
   "cell_type": "markdown",
   "id": "a8a06249",
   "metadata": {},
   "source": [
    "## Import Libraries"
   ]
  },
  {
   "cell_type": "code",
   "execution_count": 1,
   "id": "868db1ac",
   "metadata": {},
   "outputs": [],
   "source": [
    "import random\n",
    "import cv2\n",
    "import numpy as np\n",
    "from tensorflow.keras.models import Sequential\n",
    "from tensorflow.keras.layers import TimeDistributed, Conv2D, MaxPool2D, Flatten, GRU, Dense\n",
    "from tensorflow.keras.optimizers import Adam\n",
    "from tensorflow.keras.losses import sparse_categorical_crossentropy\n",
    "import matplotlib.pyplot as plt"
   ]
  },
  {
   "cell_type": "markdown",
   "id": "c4155b7a",
   "metadata": {},
   "source": [
    "## Create Dataset"
   ]
  },
  {
   "cell_type": "code",
   "execution_count": 2,
   "id": "adafd92a",
   "metadata": {},
   "outputs": [],
   "source": [
    "def createDataset(data_size):\n",
    "    dataset = []\n",
    "    label = []\n",
    "    for i in range(data_size):\n",
    "        if i % 2 ==0:\n",
    "            width, height = 1 , random.randint(1,45)\n",
    "            images = []\n",
    "            for frame in range(33):\n",
    "                img = np.zeros((50,100))    \n",
    "                img = cv2.circle(img,(width,height),1,(255,255,255),2)\n",
    "                width +=3\n",
    "                images.append(img)\n",
    "            dataset.append(images)\n",
    "            label.append(0)\n",
    "        else:\n",
    "            width, height = 97 , random.randint(1,45)\n",
    "            images = []\n",
    "            for frame in range(33):\n",
    "                img = np.zeros((50,100),dtype=np.uint8)    \n",
    "                img = cv2.circle(img,(width,height),1,(255,255,255),2)\n",
    "                width -=3\n",
    "                images.append(img)\n",
    "            dataset.append(images)\n",
    "            label.append(1)\n",
    "    \n",
    "    dataset,label = np.array(dataset), np.array(label)\n",
    "    return dataset[...,np.newaxis], label[...,np.newaxis]"
   ]
  },
  {
   "cell_type": "code",
   "execution_count": 3,
   "id": "0e34fc2a",
   "metadata": {},
   "outputs": [],
   "source": [
    "def visualization(dataset,num_data):\n",
    "    for img in dataset[num_data]:\n",
    "        plt.imshow(img,cmap=\"gray\")\n",
    "        plt.axis(\"off\")\n",
    "        plt.show()"
   ]
  },
  {
   "cell_type": "code",
   "execution_count": 4,
   "id": "70f14d6d",
   "metadata": {},
   "outputs": [],
   "source": [
    "X_train,Y_train = createDataset(1000)\n",
    "X_test, Y_test = createDataset(200)"
   ]
  },
  {
   "cell_type": "markdown",
   "id": "6e96e092",
   "metadata": {},
   "source": [
    "## Model\n",
    "## GRU"
   ]
  },
  {
   "cell_type": "code",
   "execution_count": 5,
   "id": "e21b298c",
   "metadata": {},
   "outputs": [],
   "source": [
    "model = Sequential()\n",
    "model.add(TimeDistributed(Conv2D(8,(3,3),activation=\"relu\",padding=\"same\",input_shape=(X_train.shape[2:]))))\n",
    "model.add(TimeDistributed(MaxPool2D()))\n",
    "model.add(TimeDistributed(Flatten()))\n",
    "model.add(GRU(20))\n",
    "model.add(Dense(2,activation=\"softmax\"))"
   ]
  },
  {
   "cell_type": "code",
   "execution_count": 6,
   "id": "3084afaa",
   "metadata": {},
   "outputs": [],
   "source": [
    "model.compile(optimizer=Adam(),loss=sparse_categorical_crossentropy,metrics=[\"accuracy\"])"
   ]
  },
  {
   "cell_type": "code",
   "execution_count": 7,
   "id": "b71329f1",
   "metadata": {},
   "outputs": [
    {
     "name": "stdout",
     "output_type": "stream",
     "text": [
      "Epoch 1/5\n",
      "32/32 [==============================] - 23s 676ms/step - loss: 0.0450 - accuracy: 0.9800\n",
      "Epoch 2/5\n",
      "32/32 [==============================] - 22s 675ms/step - loss: 3.0767e-04 - accuracy: 1.0000\n",
      "Epoch 3/5\n",
      "32/32 [==============================] - 22s 680ms/step - loss: 2.7754e-04 - accuracy: 1.0000\n",
      "Epoch 4/5\n",
      "32/32 [==============================] - 22s 677ms/step - loss: 2.5720e-04 - accuracy: 1.0000\n",
      "Epoch 5/5\n",
      "32/32 [==============================] - 22s 680ms/step - loss: 2.4548e-04 - accuracy: 1.0000\n"
     ]
    },
    {
     "data": {
      "text/plain": [
       "<keras.callbacks.History at 0x231f2be6d60>"
      ]
     },
     "execution_count": 7,
     "metadata": {},
     "output_type": "execute_result"
    }
   ],
   "source": [
    "model.fit(X_train,Y_train,epochs=5,batch_size=32)"
   ]
  },
  {
   "cell_type": "code",
   "execution_count": 8,
   "id": "5a40269d",
   "metadata": {},
   "outputs": [
    {
     "name": "stdout",
     "output_type": "stream",
     "text": [
      "7/7 [==============================] - 2s 166ms/step - loss: 2.3914e-04 - accuracy: 1.0000\n"
     ]
    },
    {
     "data": {
      "text/plain": [
       "[0.00023914243502076715, 1.0]"
      ]
     },
     "execution_count": 8,
     "metadata": {},
     "output_type": "execute_result"
    }
   ],
   "source": [
    "model.evaluate(X_test,Y_test)"
   ]
  }
 ],
 "metadata": {
  "kernelspec": {
   "display_name": "Python 3 (ipykernel)",
   "language": "python",
   "name": "python3"
  },
  "language_info": {
   "codemirror_mode": {
    "name": "ipython",
    "version": 3
   },
   "file_extension": ".py",
   "mimetype": "text/x-python",
   "name": "python",
   "nbconvert_exporter": "python",
   "pygments_lexer": "ipython3",
   "version": "3.9.6"
  }
 },
 "nbformat": 4,
 "nbformat_minor": 5
}
